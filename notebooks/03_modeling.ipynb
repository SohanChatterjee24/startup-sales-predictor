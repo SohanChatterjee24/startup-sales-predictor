{
 "cells": [
  {
   "cell_type": "markdown",
   "id": "6ae35204-238c-49d2-b177-f60d66e3dd37",
   "metadata": {},
   "source": [
    "<span style=\"font-size: 30px;\"><b>Model Training</b></span>"
   ]
  },
  {
   "cell_type": "markdown",
   "id": "fe7d922a-0654-45d6-8796-4d7a2a923fd4",
   "metadata": {},
   "source": [
    "<b>Importing and loading data</b>"
   ]
  },
  {
   "cell_type": "code",
   "execution_count": 16,
   "id": "0a381be9-7fcf-4ccf-9636-69f5c58d0d86",
   "metadata": {},
   "outputs": [],
   "source": [
    "import pandas as pd\n",
    "import numpy as np\n",
    "from sklearn.linear_model import LogisticRegression\n",
    "from sklearn.ensemble import RandomForestClassifier\n",
    "from xgboost import XGBClassifier\n",
    "from sklearn.metrics import accuracy_score, precision_score, recall_score, f1_score, classification_report, confusion_matrix\n",
    "from sklearn.model_selection import cross_val_score\n",
    "\n",
    "X_train = pd.read_csv(\"../data/processed/X_train.csv\")\n",
    "X_test = pd.read_csv(\"../data/processed/X_test.csv\")\n",
    "y_train = pd.read_csv(\"../data/processed/y_train.csv\").squeeze()\n",
    "y_test = pd.read_csv(\"../data/processed/y_test.csv\").squeeze()"
   ]
  },
  {
   "cell_type": "markdown",
   "id": "b200f0bc-8e06-416f-9ba7-dd8e2a13750d",
   "metadata": {},
   "source": [
    "<b>Define Models</b>"
   ]
  },
  {
   "cell_type": "code",
   "execution_count": 18,
   "id": "07ee1655-7361-4f94-a149-3cd781af0ba4",
   "metadata": {},
   "outputs": [],
   "source": [
    "models = {\n",
    "    \"Logistic Regression\": LogisticRegression(max_iter=500, random_state=42),\n",
    "    \"Random Forest\": RandomForestClassifier(n_estimators=200, random_state=42),\n",
    "    \"XGBoost\": XGBClassifier(use_label_encoder=False, eval_metric=\"logloss\", random_state=42)\n",
    "}"
   ]
  },
  {
   "cell_type": "markdown",
   "id": "a0773e83-3689-4291-ba10-1312ff7f5069",
   "metadata": {},
   "source": [
    "<b>Train & Evaluate Models</b>"
   ]
  },
  {
   "cell_type": "code",
   "execution_count": 20,
   "id": "733cdc72-0d43-4ca5-aa15-754d316ea596",
   "metadata": {},
   "outputs": [
    {
     "name": "stderr",
     "output_type": "stream",
     "text": [
      "C:\\Users\\USER\\anaconda3\\Lib\\site-packages\\sklearn\\linear_model\\_logistic.py:469: ConvergenceWarning: lbfgs failed to converge (status=1):\n",
      "STOP: TOTAL NO. of ITERATIONS REACHED LIMIT.\n",
      "\n",
      "Increase the number of iterations (max_iter) or scale the data as shown in:\n",
      "    https://scikit-learn.org/stable/modules/preprocessing.html\n",
      "Please also refer to the documentation for alternative solver options:\n",
      "    https://scikit-learn.org/stable/modules/linear_model.html#logistic-regression\n",
      "  n_iter_i = _check_optimize_result(\n"
     ]
    },
    {
     "name": "stdout",
     "output_type": "stream",
     "text": [
      "\n",
      "Logistic Regression Results:\n",
      "              precision    recall  f1-score   support\n",
      "\n",
      "           0       0.75      0.94      0.83     59284\n",
      "           1       0.85      0.54      0.66     40155\n",
      "\n",
      "    accuracy                           0.78     99439\n",
      "   macro avg       0.80      0.74      0.75     99439\n",
      "weighted avg       0.79      0.78      0.77     99439\n",
      "\n",
      "Confusion Matrix:\n",
      " [[55531  3753]\n",
      " [18294 21861]]\n",
      "\n",
      "Random Forest Results:\n",
      "              precision    recall  f1-score   support\n",
      "\n",
      "           0       1.00      1.00      1.00     59284\n",
      "           1       1.00      1.00      1.00     40155\n",
      "\n",
      "    accuracy                           1.00     99439\n",
      "   macro avg       1.00      1.00      1.00     99439\n",
      "weighted avg       1.00      1.00      1.00     99439\n",
      "\n",
      "Confusion Matrix:\n",
      " [[59136   148]\n",
      " [    1 40154]]\n"
     ]
    },
    {
     "name": "stderr",
     "output_type": "stream",
     "text": [
      "C:\\Users\\USER\\anaconda3\\Lib\\site-packages\\xgboost\\training.py:183: UserWarning: [13:30:51] WARNING: C:\\actions-runner\\_work\\xgboost\\xgboost\\src\\learner.cc:738: \n",
      "Parameters: { \"use_label_encoder\" } are not used.\n",
      "\n",
      "  bst.update(dtrain, iteration=i, fobj=obj)\n"
     ]
    },
    {
     "name": "stdout",
     "output_type": "stream",
     "text": [
      "\n",
      "XGBoost Results:\n",
      "              precision    recall  f1-score   support\n",
      "\n",
      "           0       1.00      1.00      1.00     59284\n",
      "           1       1.00      1.00      1.00     40155\n",
      "\n",
      "    accuracy                           1.00     99439\n",
      "   macro avg       1.00      1.00      1.00     99439\n",
      "weighted avg       1.00      1.00      1.00     99439\n",
      "\n",
      "Confusion Matrix:\n",
      " [[59181   103]\n",
      " [    9 40146]]\n"
     ]
    }
   ],
   "source": [
    "results = []\n",
    "\n",
    "for name, model in models.items():\n",
    "    #train \n",
    "    model.fit(X_train, y_train)\n",
    "\n",
    "    #predict\n",
    "    y_pred = model.predict(X_test)\n",
    "\n",
    "    #metrics\n",
    "    acc = accuracy_score(y_test, y_pred)\n",
    "    prec = precision_score(y_test, y_pred)\n",
    "    f1 = f1_score(y_test, y_pred)\n",
    "    rec = recall_score(y_test, y_pred)\n",
    "\n",
    "    results.append({\n",
    "        \"Model\" : name,\n",
    "        \"Accuracy\": acc,\n",
    "        \"Precision\": prec,\n",
    "        \"Recall\": rec,\n",
    "        \"F1 Score\": f1\n",
    "    })\n",
    "\n",
    "    print(f\"\\n{name} Results:\")\n",
    "    print(classification_report(y_test, y_pred))\n",
    "    print(\"Confusion Matrix:\\n\", confusion_matrix(y_test, y_pred))"
   ]
  },
  {
   "cell_type": "markdown",
   "id": "bbb57f8a-d988-47b5-8fbe-bd3ab8300442",
   "metadata": {},
   "source": [
    "<b>Comparing Models</b>"
   ]
  },
  {
   "cell_type": "code",
   "execution_count": 26,
   "id": "af17b6a9-b286-4eef-b045-31f95bdf2f53",
   "metadata": {},
   "outputs": [
    {
     "name": "stdout",
     "output_type": "stream",
     "text": [
      "\n",
      "Model Comparison:\n",
      "                  Model  Accuracy  Precision    Recall  F1 Score\n",
      "0  Logistic Regression  0.778286   0.853479  0.544415  0.664781\n",
      "1        Random Forest  0.998502   0.996328  0.999975  0.998148\n",
      "2              XGBoost  0.998874   0.997441  0.999776  0.998607\n"
     ]
    }
   ],
   "source": [
    "result_df = pd.DataFrame(results)\n",
    "print(\"\\nModel Comparison:\\n\", result_df)"
   ]
  },
  {
   "cell_type": "markdown",
   "id": "1a61f5cc-e2d9-4cca-b664-2acba4c4923f",
   "metadata": {},
   "source": [
    "<b>Saving Model Results</b>"
   ]
  },
  {
   "cell_type": "code",
   "execution_count": 33,
   "id": "c829b874-e866-41a8-b22a-557247f67bc3",
   "metadata": {},
   "outputs": [],
   "source": [
    "result_df.to_csv(\"../outputs/model_results.csv\", index=False)"
   ]
  },
  {
   "cell_type": "markdown",
   "id": "93890dc5-5fae-4f46-99b1-4c9e4b6a9e6c",
   "metadata": {},
   "source": [
    "<b>This concludes the Modeling part of the project.</b>"
   ]
  }
 ],
 "metadata": {
  "kernelspec": {
   "display_name": "Python [conda env:base] *",
   "language": "python",
   "name": "conda-base-py"
  },
  "language_info": {
   "codemirror_mode": {
    "name": "ipython",
    "version": 3
   },
   "file_extension": ".py",
   "mimetype": "text/x-python",
   "name": "python",
   "nbconvert_exporter": "python",
   "pygments_lexer": "ipython3",
   "version": "3.12.7"
  }
 },
 "nbformat": 4,
 "nbformat_minor": 5
}
