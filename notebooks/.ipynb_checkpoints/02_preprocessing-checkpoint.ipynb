{
 "cells": [
  {
   "cell_type": "markdown",
   "id": "c0fc20e4-2e38-4f7b-8831-c40a39b1eaa2",
   "metadata": {},
   "source": [
    "<span style=\"font-size: 20px;\"><b>This is the <span style=\"font-size: 30px;\">Preprocessing</span> part of the file.</b></span>"
   ]
  },
  {
   "cell_type": "markdown",
   "id": "2f8df3bb-d9d2-4fe0-b5ce-d5ae44ce5183",
   "metadata": {},
   "source": [
    "<b>Importing and loading necessary files and packages</b>"
   ]
  },
  {
   "cell_type": "code",
   "execution_count": 20,
   "id": "2de49b19-f222-4e80-acd8-8f20a86a1f88",
   "metadata": {},
   "outputs": [
    {
     "data": {
      "text/html": [
       "<div>\n",
       "<style scoped>\n",
       "    .dataframe tbody tr th:only-of-type {\n",
       "        vertical-align: middle;\n",
       "    }\n",
       "\n",
       "    .dataframe tbody tr th {\n",
       "        vertical-align: top;\n",
       "    }\n",
       "\n",
       "    .dataframe thead th {\n",
       "        text-align: right;\n",
       "    }\n",
       "</style>\n",
       "<table border=\"1\" class=\"dataframe\">\n",
       "  <thead>\n",
       "    <tr style=\"text-align: right;\">\n",
       "      <th></th>\n",
       "      <th>ID</th>\n",
       "      <th>name</th>\n",
       "      <th>category</th>\n",
       "      <th>main_category</th>\n",
       "      <th>currency</th>\n",
       "      <th>deadline</th>\n",
       "      <th>goal</th>\n",
       "      <th>launched</th>\n",
       "      <th>pledged</th>\n",
       "      <th>state</th>\n",
       "      <th>backers</th>\n",
       "      <th>country</th>\n",
       "      <th>usd pledged</th>\n",
       "      <th>usd_pledged_real</th>\n",
       "      <th>usd_goal_real</th>\n",
       "      <th>launch_year</th>\n",
       "      <th>launch_month</th>\n",
       "    </tr>\n",
       "  </thead>\n",
       "  <tbody>\n",
       "    <tr>\n",
       "      <th>0</th>\n",
       "      <td>1000002330</td>\n",
       "      <td>The Songs of Adelaide &amp; Abullah</td>\n",
       "      <td>Poetry</td>\n",
       "      <td>Publishing</td>\n",
       "      <td>GBP</td>\n",
       "      <td>2015-10-09</td>\n",
       "      <td>1000.0</td>\n",
       "      <td>2015-08-11 12:12:28</td>\n",
       "      <td>0.0</td>\n",
       "      <td>failed</td>\n",
       "      <td>0</td>\n",
       "      <td>GB</td>\n",
       "      <td>0.0</td>\n",
       "      <td>0.0</td>\n",
       "      <td>1533.95</td>\n",
       "      <td>2015</td>\n",
       "      <td>8</td>\n",
       "    </tr>\n",
       "    <tr>\n",
       "      <th>1</th>\n",
       "      <td>1000003930</td>\n",
       "      <td>Greeting From Earth: ZGAC Arts Capsule For ET</td>\n",
       "      <td>Narrative Film</td>\n",
       "      <td>Film &amp; Video</td>\n",
       "      <td>USD</td>\n",
       "      <td>2017-11-01</td>\n",
       "      <td>30000.0</td>\n",
       "      <td>2017-09-02 04:43:57</td>\n",
       "      <td>2421.0</td>\n",
       "      <td>failed</td>\n",
       "      <td>15</td>\n",
       "      <td>US</td>\n",
       "      <td>100.0</td>\n",
       "      <td>2421.0</td>\n",
       "      <td>30000.00</td>\n",
       "      <td>2017</td>\n",
       "      <td>9</td>\n",
       "    </tr>\n",
       "    <tr>\n",
       "      <th>2</th>\n",
       "      <td>1000004038</td>\n",
       "      <td>Where is Hank?</td>\n",
       "      <td>Narrative Film</td>\n",
       "      <td>Film &amp; Video</td>\n",
       "      <td>USD</td>\n",
       "      <td>2013-02-26</td>\n",
       "      <td>45000.0</td>\n",
       "      <td>2013-01-12 00:20:50</td>\n",
       "      <td>220.0</td>\n",
       "      <td>failed</td>\n",
       "      <td>3</td>\n",
       "      <td>US</td>\n",
       "      <td>220.0</td>\n",
       "      <td>220.0</td>\n",
       "      <td>45000.00</td>\n",
       "      <td>2013</td>\n",
       "      <td>1</td>\n",
       "    </tr>\n",
       "    <tr>\n",
       "      <th>3</th>\n",
       "      <td>1000007540</td>\n",
       "      <td>ToshiCapital Rekordz Needs Help to Complete Album</td>\n",
       "      <td>Music</td>\n",
       "      <td>Music</td>\n",
       "      <td>USD</td>\n",
       "      <td>2012-04-16</td>\n",
       "      <td>5000.0</td>\n",
       "      <td>2012-03-17 03:24:11</td>\n",
       "      <td>1.0</td>\n",
       "      <td>failed</td>\n",
       "      <td>1</td>\n",
       "      <td>US</td>\n",
       "      <td>1.0</td>\n",
       "      <td>1.0</td>\n",
       "      <td>5000.00</td>\n",
       "      <td>2012</td>\n",
       "      <td>3</td>\n",
       "    </tr>\n",
       "    <tr>\n",
       "      <th>4</th>\n",
       "      <td>1000011046</td>\n",
       "      <td>Community Film Project: The Art of Neighborhoo...</td>\n",
       "      <td>Film &amp; Video</td>\n",
       "      <td>Film &amp; Video</td>\n",
       "      <td>USD</td>\n",
       "      <td>2015-08-29</td>\n",
       "      <td>19500.0</td>\n",
       "      <td>2015-07-04 08:35:03</td>\n",
       "      <td>1283.0</td>\n",
       "      <td>canceled</td>\n",
       "      <td>14</td>\n",
       "      <td>US</td>\n",
       "      <td>1283.0</td>\n",
       "      <td>1283.0</td>\n",
       "      <td>19500.00</td>\n",
       "      <td>2015</td>\n",
       "      <td>7</td>\n",
       "    </tr>\n",
       "  </tbody>\n",
       "</table>\n",
       "</div>"
      ],
      "text/plain": [
       "           ID                                               name  \\\n",
       "0  1000002330                    The Songs of Adelaide & Abullah   \n",
       "1  1000003930      Greeting From Earth: ZGAC Arts Capsule For ET   \n",
       "2  1000004038                                     Where is Hank?   \n",
       "3  1000007540  ToshiCapital Rekordz Needs Help to Complete Album   \n",
       "4  1000011046  Community Film Project: The Art of Neighborhoo...   \n",
       "\n",
       "         category main_category currency    deadline     goal  \\\n",
       "0          Poetry    Publishing      GBP  2015-10-09   1000.0   \n",
       "1  Narrative Film  Film & Video      USD  2017-11-01  30000.0   \n",
       "2  Narrative Film  Film & Video      USD  2013-02-26  45000.0   \n",
       "3           Music         Music      USD  2012-04-16   5000.0   \n",
       "4    Film & Video  Film & Video      USD  2015-08-29  19500.0   \n",
       "\n",
       "              launched  pledged     state  backers country  usd pledged  \\\n",
       "0  2015-08-11 12:12:28      0.0    failed        0      GB          0.0   \n",
       "1  2017-09-02 04:43:57   2421.0    failed       15      US        100.0   \n",
       "2  2013-01-12 00:20:50    220.0    failed        3      US        220.0   \n",
       "3  2012-03-17 03:24:11      1.0    failed        1      US          1.0   \n",
       "4  2015-07-04 08:35:03   1283.0  canceled       14      US       1283.0   \n",
       "\n",
       "   usd_pledged_real  usd_goal_real  launch_year  launch_month  \n",
       "0               0.0        1533.95         2015             8  \n",
       "1            2421.0       30000.00         2017             9  \n",
       "2             220.0       45000.00         2013             1  \n",
       "3               1.0        5000.00         2012             3  \n",
       "4            1283.0       19500.00         2015             7  "
      ]
     },
     "execution_count": 20,
     "metadata": {},
     "output_type": "execute_result"
    }
   ],
   "source": [
    "import pandas as pd\n",
    "import numpy as np\n",
    "import matplotlib.pyplot as plt\n",
    "import seaborn as sns\n",
    "from sklearn.model_selection import train_test_split\n",
    "from sklearn.preprocessing import OneHotEncoder, StandardScaler, LabelEncoder\n",
    "\n",
    "df = pd.read_csv(\"../data/processed/01_eda_cleaned.csv\")\n",
    "df.head()"
   ]
  },
  {
   "cell_type": "markdown",
   "id": "f5a00bfe-e629-4def-bc32-0df76bd4a346",
   "metadata": {},
   "source": [
    "<b>Handling Missing Values</b>"
   ]
  },
  {
   "cell_type": "code",
   "execution_count": 28,
   "id": "d92df913-848d-46c7-ad2e-ff4f7ed8b3d8",
   "metadata": {},
   "outputs": [],
   "source": [
    "df.dropna(subset=[\"name\", \"category\", \"main_category\", \"state\"], inplace=True)"
   ]
  },
  {
   "cell_type": "code",
   "execution_count": 30,
   "id": "e842ea41-ce27-4031-807e-2df24b03cd3d",
   "metadata": {},
   "outputs": [],
   "source": [
    "# Convert dates to datetime\n",
    "df['deadline'] = pd.to_datetime(df['deadline'], errors='coerce')\n",
    "df['launched'] = pd.to_datetime(df['launched'], errors='coerce')"
   ]
  },
  {
   "cell_type": "markdown",
   "id": "270a69db-ff1d-4406-ba89-9380bfa267c8",
   "metadata": {},
   "source": [
    "<b>Feature Engineering</b>"
   ]
  },
  {
   "cell_type": "code",
   "execution_count": 33,
   "id": "8437b80f-9b0a-4a1a-9767-3cba299a41a6",
   "metadata": {},
   "outputs": [],
   "source": [
    "#create campaign duration\n",
    "df[\"campaign_days\"] = (df[\"deadline\"] - df[\"launched\"]).dt.days"
   ]
  },
  {
   "cell_type": "code",
   "execution_count": 35,
   "id": "64c52661-60b5-45f3-b092-5871afb124b6",
   "metadata": {},
   "outputs": [],
   "source": [
    "#target variable: success/fail (binary)\n",
    "df = df[df[\"state\"].isin([\"successful\", \"failed\"])]\n",
    "df[\"target\"] = df[\"state\"].map({\"successful\":1, \"failed\":0})"
   ]
  },
  {
   "cell_type": "markdown",
   "id": "4649eff3-ef84-4f24-b997-fa5480d9b197",
   "metadata": {},
   "source": [
    "<b>Encoding Categorical Variable</b>"
   ]
  },
  {
   "cell_type": "code",
   "execution_count": 38,
   "id": "52ebcdf4-923e-4ccf-acbb-f945a93d7015",
   "metadata": {},
   "outputs": [],
   "source": [
    "#label encoding\n",
    "label_enc_cols = [\"category\", \"main_category\", \"currency\", \"country\"]\n",
    "label_encoders = {}\n",
    "for col in label_enc_cols:\n",
    "    le = LabelEncoder()\n",
    "    df[col] = le.fit_transform(df[col])\n",
    "    label_encoders[col] = le"
   ]
  },
  {
   "cell_type": "markdown",
   "id": "2c9ba9d7-67f5-4b4d-a2b5-a593e0c1cc90",
   "metadata": {},
   "source": [
    "<b>Scaling Numerical Features</b>"
   ]
  },
  {
   "cell_type": "code",
   "execution_count": 41,
   "id": "50078420-174d-40ba-b107-23a9e8e4d6b3",
   "metadata": {},
   "outputs": [],
   "source": [
    "num_features = [\"goal\", \"pledged\", \"backers\", \"usd_pledged_real\", \"usd_goal_real\", \"campaign_days\"]\n",
    "scaler = StandardScaler()\n",
    "df[num_features] = scaler.fit_transform(df[num_features])"
   ]
  },
  {
   "cell_type": "markdown",
   "id": "6d56b70d-7507-45eb-a46f-bd0cd23e183f",
   "metadata": {},
   "source": [
    "<b>Train Test Split</b>"
   ]
  },
  {
   "cell_type": "code",
   "execution_count": 44,
   "id": "ffbd1f98-03d8-483f-8abf-2ce2824dc49a",
   "metadata": {},
   "outputs": [],
   "source": [
    "X = df.drop(columns=[\"ID\", \"name\", \"state\", \"target\", \"deadline\", \"launched\"])\n",
    "y = df[\"target\"]\n",
    "\n",
    "X_train, X_test, y_train, y_test = train_test_split(X, y, test_size=0.3, random_state=42, stratify=y)"
   ]
  },
  {
   "cell_type": "code",
   "execution_count": 46,
   "id": "e30f9624-4a5c-4444-9e9e-49e3720257f9",
   "metadata": {},
   "outputs": [
    {
     "name": "stdout",
     "output_type": "stream",
     "text": [
      "Train shape: (232170, 13)\n",
      "Test shape: (99502, 13)\n"
     ]
    }
   ],
   "source": [
    "print(f\"Train shape: {X_train.shape}\")\n",
    "print(f\"Test shape: {X_test.shape}\")"
   ]
  },
  {
   "cell_type": "markdown",
   "id": "b24fe5ad-445f-4bd1-831d-024152a41aec",
   "metadata": {},
   "source": [
    "<b>Save Processed Data</b>"
   ]
  },
  {
   "cell_type": "code",
   "execution_count": 49,
   "id": "f53fc1e2-21ee-41ef-97f0-3dd8449933fc",
   "metadata": {},
   "outputs": [],
   "source": [
    "X_train.to_csv(\"../data/processed/X_train.csv\", index=False)\n",
    "y_train.to_csv(\"../data/processed/y_train.csv\", index=False)\n",
    "X_test.to_csv(\"../data/processed/X_test.csv\", index=False)\n",
    "y_test.to_csv(\"../data/processed/y_test.csv\", index=False)"
   ]
  },
  {
   "cell_type": "markdown",
   "id": "86bc20d0-f4cc-4a3a-ba07-5ce772ab43ae",
   "metadata": {},
   "source": [
    "<b>This concludes the Preprocessing part of the project.</b>"
   ]
  }
 ],
 "metadata": {
  "kernelspec": {
   "display_name": "Python [conda env:base] *",
   "language": "python",
   "name": "conda-base-py"
  },
  "language_info": {
   "codemirror_mode": {
    "name": "ipython",
    "version": 3
   },
   "file_extension": ".py",
   "mimetype": "text/x-python",
   "name": "python",
   "nbconvert_exporter": "python",
   "pygments_lexer": "ipython3",
   "version": "3.12.7"
  }
 },
 "nbformat": 4,
 "nbformat_minor": 5
}
